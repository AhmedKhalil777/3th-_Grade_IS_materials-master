{
 "cells": [
  {
   "cell_type": "markdown",
   "metadata": {},
   "source": [
    "# MCQ Links\n",
    " ---\n",
    " \n",
    " - [ch 7 ](https://quizlet.com/10334087/629chapter7multi-flash-cards/?fbclid=IwAR1xBjMB-SLWH6tyEMf7z2MJgtSxltkN9CCjUt-uXBuycsC0dHEBPlmSN-g)\n",
    "\n",
    " - [Chapter-8](https://l.facebook.com/l.php?u=https%3A%2F%2Fquizlet.com%2F215930362%2Fcpt-264-chapter-8-flash-cards%2F%3Ffbclid%3DIwAR000cpo0Eg65-vz-Rxo_kOe3qihdECICYdAKWxkbQQIJg7iu2r-wyPZMV0&h=AT14DqMMHRO7832alqdiLBtyWteipL0CnkIJ4aLjrv0-RNX2gIsF-Rce2rTCppRhnEFOsiIkmejV7FN8wKHLqcB4Frvx2A0Q4nz_TXpqGDedJcGpXCOAvxS3mRThDZfd2F1CrA)\n",
    "\n",
    " - [chapter 8 ++](https://cdn.fbsbx.com/v/t59.2708-21/60825761_527661767769404_5584971920333340672_n.pdf/TIF_08.pdf?_nc_cat=107&_nc_oc=AQmzNMsLc-tumEh_4zh7XejPUaocdFBTz2Q26tNa4kStN_Xod-aWEoyvHFfJDliF_l4&_nc_ht=cdn.fbsbx.com&oh=e42438546a53922dd4bd72945a3df16d&oe=5D015190&dl=1&fbclid=IwAR2u1JH9FUAlsSAPycgMN-oLS1V1SRzxahU5WqKWBkP2wvaol0v10RPLIUM)\n",
    "\n",
    " - [Chapter 7 ++ In consideration , __some__ of questions is not in our study](https://l.facebook.com/l.php?u=http%3A%2F%2Fwww.pearsoncustom.com%2Fuop%2Fperrin%2Fsec3.htm%3Ffbclid%3DIwAR29aHhc_yYAnAVo2wMloTu3TzwdCuWGSxQ-jdrwvL6zqC-bfnOpBmqHgK4&h=AT14DqMMHRO7832alqdiLBtyWteipL0CnkIJ4aLjrv0-RNX2gIsF-Rce2rTCppRhnEFOsiIkmejV7FN8wKHLqcB4Frvx2A0Q4nz_TXpqGDedJcGpXCOAvxS3mRThDZfd2F1CrA)\n",
    "\n",
    " - [chapter 11,12  In consideration , __majority__ of questions is not in our study](https://l.facebook.com/l.php?u=https%3A%2F%2Fquizlet.com%2F31703691%2Fchapter-13-mis-final-flash-cards%2F%3Ffbclid%3DIwAR3Uu-AGqqrdsE9d4aWrjbHgyckZWL9DvF3z2CFbFZ7C5wA4KjYhqE8nBYo&h=AT14DqMMHRO7832alqdiLBtyWteipL0CnkIJ4aLjrv0-RNX2gIsF-Rce2rTCppRhnEFOsiIkmejV7FN8wKHLqcB4Frvx2A0Q4nz_TXpqGDedJcGpXCOAvxS3mRThDZfd2F1CrA)\n",
    "\n",
    " - [chapter 9 ](https://l.facebook.com/l.php?u=https%3A%2F%2Fquizlet.com%2F41304688%2Fis341-exam-3-multiple-choice-1-flash-cards%2F%3Ffbclid%3DIwAR2V7EgUBcZ7DPCh4K1L9TCVHoIIyBKQkxeUp6dPS0rmPRcAvE6bLftUAxI&h=AT14DqMMHRO7832alqdiLBtyWteipL0CnkIJ4aLjrv0-RNX2gIsF-Rce2rTCppRhnEFOsiIkmejV7FN8wKHLqcB4Frvx2A0Q4nz_TXpqGDedJcGpXCOAvxS3mRThDZfd2F1CrA)\n",
    "\n",
    " - [maintainance  In consideration , __majority__ of questions is not in our study](https://l.facebook.com/l.php?u=http%3A%2F%2Fwww.pearsoncustom.com%2Fuop%2Fperrin%2Fsec5.htm%3Ffbclid%3DIwAR2HvnkHc8CUWpiCT_IRggBkMcus_bgIah5qc9ADs8eFsisWOHcSalUVr8I&h=AT14DqMMHRO7832alqdiLBtyWteipL0CnkIJ4aLjrv0-RNX2gIsF-Rce2rTCppRhnEFOsiIkmejV7FN8wKHLqcB4Frvx2A0Q4nz_TXpqGDedJcGpXCOAvxS3mRThDZfd2F1CrA)\n",
    "\n",
    " - [maintainance  In consideration , __ALL__ of questions is not in our study](https://cdn.fbsbx.com/v/t59.2708-21/60884685_349491429090206_7870467814040010752_n.pdf/Chapter18.pdf?_nc_cat=102&_nc_oc=AQn8mSxu7dv8S7AhASBrttceUk17DVxLE6yrkKQD5B6oZkHuqoqv5oNtdc5ZmlerVYQ&_nc_ht=cdn.fbsbx.com&oh=22da94104b9364d0406981581eeb5a45&oe=5D011DA5&dl=1&fbclid=IwAR3mnS9XcPKtHaC8z2UkP-kOBc4PcbS1jqPd2eVBgLYMtIMziOlCu58hvYI)\n",
    "\n",
    " - [__Midterm QA__](https://cdn.fbsbx.com/v/t59.2708-21/57490242_420653665419739_2668468639908233216_n.pdf/MCQ-AnalysisDesign1.pdf?_nc_cat=109&_nc_oc=AQkJSqWEl-SmQrG1PHroz7jk89es-df4HPVvmLtFoBjBf_L2wpWLBDrL7Swe-PJo5zo&_nc_ht=cdn.fbsbx.com&oh=19c7b23be6143d197d5ff34513cca4e7&oe=5D012C42&dl=1&fbclid=IwAR3mnS9XcPKtHaC8z2UkP-kOBc4PcbS1jqPd2eVBgLYMtIMziOlCu58hvYI)\n",
    "\n",
    " - [important  __some__ of questions is not in our study ](https://cdn.fbsbx.com/v/t59.2708-21/60857997_2320914628163678_6895060481757675520_n.pdf/TIF02-2.pdf?_nc_cat=108&_nc_oc=AQnWTGQ_uVCe4LJ9J62_csCy7d7Lg2alGQM3yS5PMniHsu5SlrWY1U4IoA2wij9kRzQ&_nc_ht=cdn.fbsbx.com&oh=6420b076923e9267e72b3947435c6cf9&oe=5D0126BD&dl=1&fbclid=IwAR0TEwWA0jM8B9_g3LnSzbtyOmyaIpoFJZo3y1fLAjGSuCDYDzfpQrv5N-c)\n",
    " \n",
    " - [__midterm__ ](https://l.facebook.com/l.php?u=https%3A%2F%2Fquizlet.com%2F7408070%2Fcomputer-system-design-midterm-flash-cards%2F%3Ffbclid%3DIwAR39YKZSw4RRGAEOJtSPgFE27pZEEud4199o-FiS7FjuC71T8ZeklBb9xiA&h=AT3HrXrG3XmaBVgqOMC03TKhRZnRPXeB4LomPE4IdaR79qBCyt3zUgC_JDTX7u8JZFa8HJNUxmX1x0pqjqdlKD2Y17gkBuj26drLWKWj6tAKxogEMffzvd4SWJFSi8kw-xaNCA)\n",
    " \n",
    " - [__Chapter 8 __](https://l.facebook.com/l.php?u=https%3A%2F%2Fquizlet.com%2F215930362%2Fcpt-264-chapter-8-flash-cards%2F%3Ffbclid%3DIwAR2Y6x2t2fpQF56LW-gk8eAJv8bkj0x7r4zOEQ8DmdhUdgCsTP9-yHxYNGc&h=AT3HrXrG3XmaBVgqOMC03TKhRZnRPXeB4LomPE4IdaR79qBCyt3zUgC_JDTX7u8JZFa8HJNUxmX1x0pqjqdlKD2Y17gkBuj26drLWKWj6tAKxogEMffzvd4SWJFSi8kw-xaNCA)\n"
    " \n",
    " - [__go__](https://l.facebook.com/l.php?u=https%3A%2F%2Fquizlet.com%2F215930362%2Fcpt-264-chapter-8-flash-cards%2F%3Ffbclid%3DIwAR2Y6x2t2fpQF56LW-gk8eAJv8bkj0x7r4zOEQ8DmdhUdgCsTP9-yHxYNGc&h=AT3HrXrG3XmaBVgqOMC03TKhRZnRPXeB4LomPE4IdaR79qBCyt3zUgC_JDTX7u8JZFa8HJNUxmX1x0pqjqdlKD2Y17gkBuj26drLWKWj6tAKxogEMffzvd4SWJFSi8kw-xaNCA)\n")\n"

   ]
  },
  {
   "cell_type": "code",
   "execution_count": null,
   "metadata": {},
   "outputs": [],
   "source": [
    "\n"
   ]
  }
 ],
 "metadata": {
  "kernelspec": {
   "display_name": "Python 3",
   "language": "python",
   "name": "python3"
  },
  "language_info": {
   "codemirror_mode": {
    "name": "ipython",
    "version": 3
   },
   "file_extension": ".py",
   "mimetype": "text/x-python",
   "name": "python",
   "nbconvert_exporter": "python",
   "pygments_lexer": "ipython3",
   "version": "3.7.3"
  }
 },
 "nbformat": 4,
 "nbformat_minor": 2
}
