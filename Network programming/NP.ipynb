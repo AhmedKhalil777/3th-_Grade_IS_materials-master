{
 "cells": [
  {
   "cell_type": "markdown",
   "metadata": {},
   "source": [
    "# In The Name of Allah\n",
    "\n",
    "## Network Programming Dr --> Sara Shaker\n",
    "\n",
    "\n",
    "\n",
    "\n",
    "\n",
    "| Lecture |Download lec.        |Download Project              |\n",
    "| ------- |:------------------:|:-------------------------:|\n",
    "| 1st     |[<img src=\"1.PNG\" style=\"width:70%\">](https://drive.google.com/file/d/1vcv_fuXIPtCmTOsbSa45TUHZuAOdjCbE/view?fbclid=IwAR0HB_6m0WaPHfAafvMz4oIyoUA7ofqOIBjexHWlANtn-4_bTd7JLmFaWDc)|[<img src=\"7.PNG\" style=\"width:70%\">](https://drive.google.com/file/d/1cq_S7gAM5154l665CSc15jY0kkxFK44a/view?usp=drivesdk&fbclid=IwAR2SMGvdfh_JaAPtWm1O6guT0s9osLcPnKQgJZBnHYpPsNkLe0Xm3Ie18Dg)|\n",
    "| 2nd     |[<img src=\"2.PNG\" style=\"width:70%\">](https://drive.google.com/file/d/1uRhGfkV_RiEC-bl-rX5ta836hJIlCGqR/view?usp=drivesdk&fbclid=IwAR1SQyFU4wIRWB6hhnRlk6eZRdTf-2tBzLlDXmcEtyzCwQjotAyqtVl_0K4)|[<img src=\"8.PNG\" style=\"width:70%\">](https://drive.google.com/file/d/1EsgaaAHPWI7yKddz1uZl_qZtEppj_jKV/view?usp=drivesdk&fbclid=IwAR2C4MN04dB5wAm6NT92J9gT-S2yp1d2ONeTNSWLpvk1GnxmdHI_liLMzvA)|\n",
    "|   3rd   |[<img src=\"3.PNG\" style=\"width:70%\">](https://drive.google.com/file/d/10iaVj1oPaMV8iPpFwP-8lGhJxXJ19XEG/view?usp=drivesdk&fbclid=IwAR1GaNvEB5YT3b3I8zk0HpgfUAmEJLl5S5yOyKgi24jzcgofZckBODTAP80)|[<img src=\"9.PNG\" style=\"width:70%\">](https://drive.google.com/file/d/1-lty1eg6Ut3-64sC40hg1w9u_igqJYxK/view?usp=drivesdk&fbclid=IwAR3GB8-6vx_gJKew5mH4taqpkDapxsSgTKE3erOEErOWOSqbhwVxDu3tWok)|\n",
    "|    4th  |[<img src=\"4.PNG\" style=\"width:70%\">](https://drive.google.com/file/d/1boysXBlchmnBeO3QNhG7Y0LzPz27EKfa/view?usp=drivesdk&fbclid=IwAR1wuiwowkNbBT0oT905cFxgVMTXNKHN2G11hVuKI5Me42R8VwpDwPAd_Vc)|[<img src=\"10.PNG\" style=\"width:70%\">](https://drive.google.com/file/d/1HfZn0ezwxjpUHN9ohBe_8G26OqTQ_qR-/view?usp=drivesdk&fbclid=IwAR2H_sWScz6xgIuXM2Pxe4YAjcGbUqs7rPsjMRCnngD9juGCDcTVv6yhbJM)[<img src=\"101.PNG\" style=\"width:70%\">](https://drive.google.com/file/d/1HfZn0ezwxjpUHN9ohBe_8G26OqTQ_qR-/view?usp=drivesdk&fbclid=IwAR2H_sWScz6xgIuXM2Pxe4YAjcGbUqs7rPsjMRCnngD9juGCDcTVv6yhbJM)|\n",
    "|     5th |[<img src=\"5.PNG\" style=\"width:70%\">](https://drive.google.com/file/d/1anlckpNxVtO31kJGal_YUN71fqvx17TS/view?usp=drivesdk&fbclid=IwAR2bGyX02w8L3vRDKtUu9gWZBNOKWiTCvji1pOG1XuJrhG1CWTvKiUhIIaw)|[<img src=\"11.PNG\" style=\"width:70%\">](https://drive.google.com/file/d/1jJHaIX2pCyxOtK_IORHetXMCug1tc2RY/view?usp=drivesdk&fbclid=IwAR0nNo59he20M4uO7cdh5zLiXvv6tRhQAtRsFNU0QwEhGCo7PA1Wg0HXoaU)|\n",
    "|   6th   |[<img src=\"6.PNG\" style=\"width:70%\">](https://drive.google.com/file/d/15J8Z4TAu7wiHMwDhM2nIzXTEBGwV16Lb/view?usp=drivesdk&fbclid=IwAR1olZRZooTqiakavsOgqAEpkFBoxydCvTUK8WLsAdQ_frOEway_AH6kYak)|[<img src=\"12.PNG\" style=\"width:70%\">](https://drive.google.com/file/d/1yGlCOAmr3rI4toYJ1FpEE_YF2w-z8YVE/view?usp=drivesdk&fbclid=IwAR0eV3fLjxcyYafmIkvPEzaW1wAztTajYxnGnHQlFKUBKi4Dt39VhcV9Tr4)|\n",
    "\n",
    "\n",
    "\n"
   ]
  },
  {
   "cell_type": "code",
   "execution_count": null,
   "metadata": {},
   "outputs": [],
   "source": []
  }
 ],
 "metadata": {
  "kernelspec": {
   "display_name": "Python 3",
   "language": "python",
   "name": "python3"
  },
  "language_info": {
   "codemirror_mode": {
    "name": "ipython",
    "version": 3
   },
   "file_extension": ".py",
   "mimetype": "text/x-python",
   "name": "python",
   "nbconvert_exporter": "python",
   "pygments_lexer": "ipython3",
   "version": "3.7.0"
  }
 },
 "nbformat": 4,
 "nbformat_minor": 2
}
